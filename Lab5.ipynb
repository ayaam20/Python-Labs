{
 "cells": [
  {
   "cell_type": "markdown",
   "metadata": {},
   "source": [
    "## Q1"
   ]
  },
  {
   "cell_type": "code",
   "execution_count": 8,
   "metadata": {},
   "outputs": [
    {
     "name": "stdout",
     "output_type": "stream",
     "text": [
      "Sum:  1310\n"
     ]
    }
   ],
   "source": [
    "sum = 0\n",
    "a=[1,3,7,3,8,524,764]\n",
    "for i in range(0,len(a)):\n",
    "    sum = sum + a[i]\n",
    "print(\"Sum: \",sum)\n",
    "    \n",
    "    "
   ]
  },
  {
   "cell_type": "markdown",
   "metadata": {},
   "source": [
    "## Q2"
   ]
  },
  {
   "cell_type": "code",
   "execution_count": 10,
   "metadata": {},
   "outputs": [
    {
     "name": "stdout",
     "output_type": "stream",
     "text": [
      "Mul:  201769344\n"
     ]
    }
   ],
   "source": [
    "mul = 1\n",
    "a=[1,3,7,3,8,524,764]\n",
    "for i in range(0,len(a)):\n",
    "    mul = mul* a[i]\n",
    "print(\"Mul: \",mul)\n",
    "    \n",
    "    "
   ]
  },
  {
   "cell_type": "markdown",
   "metadata": {},
   "source": [
    "## Q3 "
   ]
  },
  {
   "cell_type": "code",
   "execution_count": 11,
   "metadata": {},
   "outputs": [
    {
     "name": "stdout",
     "output_type": "stream",
     "text": [
      "Max:  764\n"
     ]
    }
   ],
   "source": [
    "a=[1,3,7,3,8,524,764]    \n",
    "print(\"Max: \",max(a))    "
   ]
  },
  {
   "cell_type": "markdown",
   "metadata": {},
   "source": [
    "## Q4"
   ]
  },
  {
   "cell_type": "code",
   "execution_count": 12,
   "metadata": {},
   "outputs": [
    {
     "name": "stdout",
     "output_type": "stream",
     "text": [
      "Min:  1\n"
     ]
    }
   ],
   "source": [
    "a=[1,3,7,3,8,524,764]    \n",
    "print(\"Min: \",min(a))   "
   ]
  },
  {
   "cell_type": "markdown",
   "metadata": {},
   "source": [
    "## Q6"
   ]
  },
  {
   "cell_type": "code",
   "execution_count": 20,
   "metadata": {},
   "outputs": [
    {
     "name": "stdout",
     "output_type": "stream",
     "text": [
      "[(2, 1), (1, 2), (2, 3), (4, 4), (2, 5)]\n"
     ]
    }
   ],
   "source": [
    "a =[(2,5),(1,2),(4,4),(2,3),(2,1)]  \n",
    "def Sort_Tuple(a):  \n",
    "    lst = len(a)  \n",
    "    for i in range(0, lst):  \n",
    "        for j in range(0, lst-i-1):  \n",
    "            if (a[j][1] > a[j + 1][1]):  \n",
    "                temp = a[j]  \n",
    "                a[j]= a[j + 1]  \n",
    "                a[j + 1]= temp  \n",
    "    return a  \n",
    "print(Sort_Tuple(a))"
   ]
  },
  {
   "cell_type": "markdown",
   "metadata": {},
   "source": [
    "## Q7"
   ]
  },
  {
   "cell_type": "code",
   "execution_count": 21,
   "metadata": {},
   "outputs": [
    {
     "name": "stdout",
     "output_type": "stream",
     "text": [
      "[1, 2, 4, 'a', 'g', 'q']\n"
     ]
    }
   ],
   "source": [
    "c = [1,2,4,1,4,'a','g','q','a']\n",
    "c = list(dict.fromkeys(c))\n",
    "print(c)"
   ]
  },
  {
   "cell_type": "markdown",
   "metadata": {},
   "source": [
    "## Q8"
   ]
  },
  {
   "cell_type": "code",
   "execution_count": 24,
   "metadata": {},
   "outputs": [
    {
     "name": "stdout",
     "output_type": "stream",
     "text": [
      "Empty List\n"
     ]
    }
   ],
   "source": [
    "d=[]\n",
    "if len(d)==0:\n",
    "    print(\"Empty List\")\n",
    "else:\n",
    "    print(\"List not Empty \",d)"
   ]
  },
  {
   "cell_type": "markdown",
   "metadata": {},
   "source": [
    "## Q9"
   ]
  },
  {
   "cell_type": "code",
   "execution_count": 25,
   "metadata": {},
   "outputs": [
    {
     "name": "stdout",
     "output_type": "stream",
     "text": [
      "[1, 2, 3, 4, 5, 6]\n"
     ]
    }
   ],
   "source": [
    "e=[1,2,3,4,5,6]\n",
    "f=[]\n",
    "f=e\n",
    "print(f)"
   ]
  },
  {
   "cell_type": "markdown",
   "metadata": {},
   "source": [
    "## Q11"
   ]
  },
  {
   "cell_type": "code",
   "execution_count": 30,
   "metadata": {},
   "outputs": [],
   "source": [
    "g=[0,1]\n",
    "h=[8,2]\n",
    "for i in g:\n",
    "    for j in h:\n",
    "        if i==j:\n",
    "            print(\"True\")"
   ]
  },
  {
   "cell_type": "markdown",
   "metadata": {},
   "source": [
    "## Q12"
   ]
  },
  {
   "cell_type": "code",
   "execution_count": 41,
   "metadata": {},
   "outputs": [
    {
     "name": "stdout",
     "output_type": "stream",
     "text": [
      "[2, 3, 4, 9]\n"
     ]
    }
   ],
   "source": [
    "i=[1,2,3,4,5,6,9]\n",
    "i.pop(0)\n",
    "i.pop(4)\n",
    "i.pop(-2)\n",
    "print(i)"
   ]
  },
  {
   "cell_type": "code",
   "execution_count": null,
   "metadata": {},
   "outputs": [],
   "source": []
  }
 ],
 "metadata": {
  "kernelspec": {
   "display_name": "Python 3",
   "language": "python",
   "name": "python3"
  },
  "language_info": {
   "codemirror_mode": {
    "name": "ipython",
    "version": 3
   },
   "file_extension": ".py",
   "mimetype": "text/x-python",
   "name": "python",
   "nbconvert_exporter": "python",
   "pygments_lexer": "ipython3",
   "version": "3.7.4"
  }
 },
 "nbformat": 4,
 "nbformat_minor": 2
}
