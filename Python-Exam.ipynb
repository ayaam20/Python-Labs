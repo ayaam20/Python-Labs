{
 "cells": [
  {
   "cell_type": "markdown",
   "metadata": {},
   "source": [
    "### Ayaam Choudhary\n",
    "### 2K18CSUN01012"
   ]
  },
  {
   "cell_type": "markdown",
   "metadata": {},
   "source": [
    "# Theoretical Questions"
   ]
  },
  {
   "cell_type": "markdown",
   "metadata": {},
   "source": [
    "## Q1"
   ]
  },
  {
   "cell_type": "markdown",
   "metadata": {},
   "source": [
    "By using Super Keyword\n",
    "super().__init__()"
   ]
  },
  {
   "cell_type": "markdown",
   "metadata": {},
   "source": [
    "## Q2"
   ]
  },
  {
   "cell_type": "markdown",
   "metadata": {},
   "source": [
    "class child(parent)"
   ]
  },
  {
   "cell_type": "markdown",
   "metadata": {},
   "source": [
    "## Q3"
   ]
  },
  {
   "cell_type": "code",
   "execution_count": 3,
   "metadata": {},
   "outputs": [
    {
     "name": "stdout",
     "output_type": "stream",
     "text": [
      "{'A': 'abc', 'B': '123'}\n"
     ]
    }
   ],
   "source": [
    "dict = {1: {'A': 'abc', 'B': '123'},2: {'1': 'def', 'B': '456'}}\n",
    "print(dict[1])"
   ]
  },
  {
   "cell_type": "markdown",
   "metadata": {},
   "source": [
    "# Set C"
   ]
  },
  {
   "cell_type": "markdown",
   "metadata": {},
   "source": [
    "## Q1"
   ]
  },
  {
   "cell_type": "code",
   "execution_count": 1,
   "metadata": {},
   "outputs": [
    {
     "name": "stdout",
     "output_type": "stream",
     "text": [
      "Enter Value 1:- 4\n",
      "Enter Value 2:- 8\n",
      "Enter Value 3:- 3\n",
      "4.618802153517006\n"
     ]
    }
   ],
   "source": [
    "import math\n",
    "value1 = int(input(\"Enter Value 1:- \"))\n",
    "value2 = int(input(\"Enter Value 2:- \"))\n",
    "value3 = int(input(\"Enter Value 3:- \"))\n",
    "z = (2*value1*value2)/value3\n",
    "q = math.sqrt(z)\n",
    "print(q)"
   ]
  },
  {
   "cell_type": "markdown",
   "metadata": {},
   "source": [
    "## Q2"
   ]
  },
  {
   "cell_type": "code",
   "execution_count": 2,
   "metadata": {},
   "outputs": [
    {
     "name": "stdout",
     "output_type": "stream",
     "text": [
      "Enter any string:- asdfghj\n",
      "a\n",
      "d\n",
      "g\n",
      "j\n"
     ]
    }
   ],
   "source": [
    "s = input(\"Enter any string:- \")\n",
    "length = len(s)\n",
    "for x in range(0,length):\n",
    "    if (x%2==0):\n",
    "        print(s[x])"
   ]
  },
  {
   "cell_type": "code",
   "execution_count": null,
   "metadata": {},
   "outputs": [],
   "source": []
  }
 ],
 "metadata": {
  "kernelspec": {
   "display_name": "Python 3",
   "language": "python",
   "name": "python3"
  },
  "language_info": {
   "codemirror_mode": {
    "name": "ipython",
    "version": 3
   },
   "file_extension": ".py",
   "mimetype": "text/x-python",
   "name": "python",
   "nbconvert_exporter": "python",
   "pygments_lexer": "ipython3",
   "version": "3.7.4"
  }
 },
 "nbformat": 4,
 "nbformat_minor": 2
}
